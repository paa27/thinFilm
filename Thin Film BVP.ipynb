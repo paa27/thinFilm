{
 "cells": [
  {
   "cell_type": "code",
   "execution_count": 25,
   "metadata": {},
   "outputs": [],
   "source": [
    "import numpy as np\n",
    "import matplotlib.pyplot as plt\n",
    "from math import *"
   ]
  },
  {
   "cell_type": "code",
   "execution_count": 26,
   "metadata": {},
   "outputs": [
    {
     "data": {
      "text/plain": [
       "\"\\nEQUATION\\n\\n-Uh_0+(h_0'''h_0^3-D(alpha)h_0'h_0^3)+h_^3 = d \\n\\n\""
      ]
     },
     "execution_count": 26,
     "metadata": {},
     "output_type": "execute_result"
    }
   ],
   "source": [
    "'''\n",
    "EQUATION\n",
    "\n",
    "-Uh_0+(h_0\\'''h_0^3-D(alpha)h_0'h_0^3)+h_^3 = d \n",
    "\n",
    "'''"
   ]
  },
  {
   "cell_type": "code",
   "execution_count": 27,
   "metadata": {},
   "outputs": [],
   "source": [
    "'''What's given '''\n",
    "#b = .1,.01,.001\n",
    "b = .1 \n",
    "# D = 0,2.5,5\n",
    "D = 0 \n",
    "alpha = degrees(pi/4)  # 45 degrees "
   ]
  },
  {
   "cell_type": "code",
   "execution_count": 28,
   "metadata": {},
   "outputs": [],
   "source": [
    "U = (1-pow(b,3))/(1-b)\n",
    "d = -b*(1-pow(b,2))/(1-b)"
   ]
  },
  {
   "cell_type": "code",
   "execution_count": 29,
   "metadata": {},
   "outputs": [],
   "source": [
    "# define the ODE as a first order system\n",
    "def fun(y,h0):\n",
    "    return np.vstack( y[1], y[2], 1/(pow(h0,3)) * ( (U*h0+D*y[1]*pow(h0,3)) + d) ) "
   ]
  },
  {
   "cell_type": "code",
   "execution_count": null,
   "metadata": {},
   "outputs": [],
   "source": [
    "#Evaluation of the boundary conditions \n",
    "def bc():\n",
    "    "
   ]
  }
 ],
 "metadata": {
  "kernelspec": {
   "display_name": "Python 3",
   "language": "python",
   "name": "python3"
  },
  "language_info": {
   "codemirror_mode": {
    "name": "ipython",
    "version": 3
   },
   "file_extension": ".py",
   "mimetype": "text/x-python",
   "name": "python",
   "nbconvert_exporter": "python",
   "pygments_lexer": "ipython3",
   "version": "3.6.5"
  }
 },
 "nbformat": 4,
 "nbformat_minor": 2
}
